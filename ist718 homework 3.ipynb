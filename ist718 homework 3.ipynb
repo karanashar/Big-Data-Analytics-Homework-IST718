{
 "cells": [
  {
   "cell_type": "markdown",
   "metadata": {},
   "source": [
    "##### Grading Feedback Cell"
   ]
  },
  {
   "cell_type": "markdown",
   "metadata": {},
   "source": [
    "# IST 718: Big Data Analytics\n",
    "\n",
    "- Prepared by: Prof Willard Williamson <wewillia@syr.edu>\n",
    "- Modified by: Prof Humayun Khan <hhkhan@syr.edu>\n",
    "- Faculty Assistant: Eashani Deorukhkar <edeorukh@syr.edu>\n",
    "- Faculty Assistant: Yash Kapadia <ykapadia@syr.edu>\n",
    "\n",
    "## General instructions:\n",
    "\n",
    "- You are welcome to discuss the problems with your classmates but __you are not allowed to copy any part of your answers from your classmates.  Short code snippets are allowed from the internet.  Code from the class text books or class provided code can be copied in its entirety.__\n",
    "- __Do not change homework file names.__ The FAs and the professor use these names to grade your homework.  Changing file names may result in a point reduction penalty.\n",
    "- There could be tests in some cells (i.e., `assert` and `np.testing.` statements). These tests (if present) are used to grade your answers. **However, the professor and FAs could use __additional__ test for your answer. Think about cases where your code should run even if it passess all the tests you see.**\n",
    "- Before submitting your work, remember to check for run time errors with the following procedure:\n",
    "`Kernel`$\\rightarrow$`Restart and Run All`.  All runtime errors will result in a minimum penalty of half off.\n",
    "- Data Bricks is the official class runtime environment so you should test your code on Data Bricks before submission.  If there is a runtime problem in the grading environment, we will try your code on Data Bricks before making a final grading decision.\n",
    "- All plots shall include a title, and axis labels.\n",
    "- Grading feedback cells are there for graders to provide feedback to students.  Don't change or remove grading feedback cells.\n",
    "- Don't add or remove files from your git repo.\n",
    "- Do not change file names in your repo.  This also means don't change the title of the ipython notebook.\n",
    "- __Only use spark, spark machine learning, spark data frames, RDD's, and map reduce to solve all problems unless instructed otherwise.__"
   ]
  },
  {
   "cell_type": "code",
   "execution_count": 1,
   "metadata": {
    "deletable": false,
    "editable": false,
    "nbgrader": {
     "checksum": "34b858b2a4dae4c0c6569a235758d7e7",
     "grade": true,
     "grade_id": "cell-16fe9b731c74bdb1",
     "locked": true,
     "points": 5,
     "schema_version": 1,
     "solution": false
    }
   },
   "outputs": [],
   "source": [
    "# read only cell\n",
    "\n",
    "import os\n",
    "\n",
    "# get the databricks runtime version\n",
    "db_env = os.getenv(\"DATABRICKS_RUNTIME_VERSION\")\n",
    "\n",
    "# Define a function to read the data file.  The full path data file name is constructed\n",
    "# by checking runtime environment variables to determine if the runtime environment is \n",
    "# databricks, or a student's personal computer.  The full path file name is then\n",
    "# constructed based on the runtime env.\n",
    "# \n",
    "# Params\n",
    "#   data_file_name: The base name of the data file to load\n",
    "# \n",
    "# Returns the full path file name based on the runtime env\n",
    "#\n",
    "def get_training_filename(data_file_name):    \n",
    "    # if the databricks env var exists\n",
    "    if db_env != None:\n",
    "        # build the full path file name assuming data brick env\n",
    "        full_path_name = \"/FileStore/tables/%s\" % data_file_name\n",
    "    # else the data is assumed to be in the same dir as this notebook\n",
    "    else:\n",
    "        # Assume the student is running on their own computer and load the data\n",
    "        # file from the same dir as this notebook\n",
    "        full_path_name = data_file_name\n",
    "    \n",
    "    # return the full path file name to the caller\n",
    "    return full_path_name"
   ]
  },
  {
   "cell_type": "code",
   "execution_count": 2,
   "metadata": {},
   "outputs": [],
   "source": [
    "# import statements here\n",
    "# create spark and sparkcontext objects\n",
    "import findspark\n",
    "findspark.init()\n",
    "from pyspark.sql import SparkSession\n",
    "from pyspark.sql import Row\n",
    "import numpy as np\n",
    "import pandas as pd\n",
    "spark = SparkSession.builder.getOrCreate()\n",
    "sc = spark.sparkContext\n",
    "import matplotlib.pylab as plt"
   ]
  },
  {
   "cell_type": "code",
   "execution_count": 3,
   "metadata": {},
   "outputs": [],
   "source": [
    "from pyspark.ml import feature, regression, evaluation, Pipeline"
   ]
  },
  {
   "cell_type": "markdown",
   "metadata": {},
   "source": [
    "# Moore's Law\n",
    "The frequently cited “Moore’s Law” originated with a 1965 article in Electronics magazine that said the number of transistors in a given area would double every year."
   ]
  },
  {
   "cell_type": "markdown",
   "metadata": {},
   "source": [
    "### ONLY use spark functions unless the question instructions say otherwise."
   ]
  },
  {
   "cell_type": "markdown",
   "metadata": {},
   "source": [
    "## Question 1 Load the Transistor Data (5 pts)\n",
    "- Read the MooresLaw.txt file into a spark data frame named trans_df using only spark.  The columns should be named as per the header in the txt file.\n",
    "- Print the first 5 rows of trans_df \n",
    "- Print the shape of trans_df (num_rows, num_cols)\n",
    "- Make sure to use the get_training_filename function above to obtain the file name based on your runtime environment"
   ]
  },
  {
   "cell_type": "code",
   "execution_count": 4,
   "metadata": {
    "scrolled": true
   },
   "outputs": [
    {
     "name": "stdout",
     "output_type": "stream",
     "text": [
      "+---------------+------+----------+\n",
      "|Intel Processor|  Year|Transistor|\n",
      "+---------------+------+----------+\n",
      "|           4004|1971.9|      2300|\n",
      "|           8008|1972.3|      3500|\n",
      "|           8080|1974.3|      6000|\n",
      "|           8085|1976.3|      6500|\n",
      "|           8086|1978.5|     29000|\n",
      "+---------------+------+----------+\n",
      "only showing top 5 rows\n",
      "\n",
      "None\n",
      "74 3\n"
     ]
    }
   ],
   "source": [
    "# your code here\n",
    "a=sc.textFile(get_training_filename('MooresLaw.txt'))\n",
    "def map1(e):\n",
    "    a=e.split('\\t')\n",
    "    x=a[0]\n",
    "    y=a[1]\n",
    "    z=a[2]\n",
    "    return(x,y,z)\n",
    "a=a.map(map1).collect()\n",
    "trans_df=spark.createDataFrame(a,['Intel Processor','Year','Transistor'])\n",
    "temp=trans_df.limit(1)\n",
    "trans_df=trans_df.subtract(temp)\n",
    "trans_df=trans_df.sort('Year')\n",
    "num_rows=trans_df.count()\n",
    "num_cols=len(trans_df.columns)\n",
    "print(trans_df.show(5))\n",
    "print(num_rows,num_cols)"
   ]
  },
  {
   "cell_type": "markdown",
   "metadata": {},
   "source": [
    "##### Grading Feedback Cell"
   ]
  },
  {
   "cell_type": "markdown",
   "metadata": {},
   "source": [
    "## Question 2 Transistor Data Cleanup (5 pts)\n",
    "- Drop all columns in trans_df except the Year and Transistors column.\n",
    "- Drop rows in trans_df that contain NaN vales\n",
    "- Prove that trans_df does not contain NaN values by showing a single integer sum of the number of Nan values in the dataframe (should equal 0)"
   ]
  },
  {
   "cell_type": "code",
   "execution_count": 5,
   "metadata": {},
   "outputs": [
    {
     "data": {
      "text/plain": [
       "0"
      ]
     },
     "execution_count": 5,
     "metadata": {},
     "output_type": "execute_result"
    }
   ],
   "source": [
    "# your code here\n",
    "trans_df=trans_df.drop('Intel Processor')\n",
    "trans_df=trans_df.na.drop()\n",
    "trans_df.filter(trans_df['Year'].isNull()|trans_df['Transistor'].isNull()).count()"
   ]
  },
  {
   "cell_type": "markdown",
   "metadata": {},
   "source": [
    "##### Grading Feedback Cell"
   ]
  },
  {
   "cell_type": "markdown",
   "metadata": {},
   "source": [
    "## Question 3 Transistor Data Exploration (10 pts)\n"
   ]
  },
  {
   "cell_type": "markdown",
   "metadata": {},
   "source": [
    "### Question 3a (3 pts) \n",
    "Explore the data in trans_df by plotting transistors vs. year with a scatter plot.  You may use packages outside of spark to perform the task in question 3a."
   ]
  },
  {
   "cell_type": "code",
   "execution_count": 6,
   "metadata": {},
   "outputs": [
    {
     "data": {
      "text/plain": [
       "DataFrame[Year: string, Transistor: string]"
      ]
     },
     "execution_count": 6,
     "metadata": {},
     "output_type": "execute_result"
    }
   ],
   "source": [
    "trans_df"
   ]
  },
  {
   "cell_type": "code",
   "execution_count": 7,
   "metadata": {},
   "outputs": [],
   "source": [
    "from pyspark.sql.types import *\n",
    "trans_df=trans_df.withColumn('Transistor',trans_df['Transistor'].cast(DoubleType()))\n",
    "a=trans_df.toPandas()"
   ]
  },
  {
   "cell_type": "code",
   "execution_count": 8,
   "metadata": {},
   "outputs": [
    {
     "data": {
      "text/html": [
       "<div>\n",
       "<style scoped>\n",
       "    .dataframe tbody tr th:only-of-type {\n",
       "        vertical-align: middle;\n",
       "    }\n",
       "\n",
       "    .dataframe tbody tr th {\n",
       "        vertical-align: top;\n",
       "    }\n",
       "\n",
       "    .dataframe thead th {\n",
       "        text-align: right;\n",
       "    }\n",
       "</style>\n",
       "<table border=\"1\" class=\"dataframe\">\n",
       "  <thead>\n",
       "    <tr style=\"text-align: right;\">\n",
       "      <th></th>\n",
       "      <th>Year</th>\n",
       "      <th>Transistor</th>\n",
       "    </tr>\n",
       "  </thead>\n",
       "  <tbody>\n",
       "    <tr>\n",
       "      <th>0</th>\n",
       "      <td>1971.9</td>\n",
       "      <td>2.300000e+03</td>\n",
       "    </tr>\n",
       "    <tr>\n",
       "      <th>1</th>\n",
       "      <td>1972.3</td>\n",
       "      <td>3.500000e+03</td>\n",
       "    </tr>\n",
       "    <tr>\n",
       "      <th>2</th>\n",
       "      <td>1974.3</td>\n",
       "      <td>6.000000e+03</td>\n",
       "    </tr>\n",
       "    <tr>\n",
       "      <th>3</th>\n",
       "      <td>1976.3</td>\n",
       "      <td>6.500000e+03</td>\n",
       "    </tr>\n",
       "    <tr>\n",
       "      <th>4</th>\n",
       "      <td>1978.5</td>\n",
       "      <td>2.900000e+04</td>\n",
       "    </tr>\n",
       "    <tr>\n",
       "      <th>...</th>\n",
       "      <td>...</td>\n",
       "      <td>...</td>\n",
       "    </tr>\n",
       "    <tr>\n",
       "      <th>69</th>\n",
       "      <td>2014.9</td>\n",
       "      <td>1.300000e+09</td>\n",
       "    </tr>\n",
       "    <tr>\n",
       "      <th>70</th>\n",
       "      <td>2015.0</td>\n",
       "      <td>1.900000e+09</td>\n",
       "    </tr>\n",
       "    <tr>\n",
       "      <th>71</th>\n",
       "      <td>2016.2</td>\n",
       "      <td>3.200000e+09</td>\n",
       "    </tr>\n",
       "    <tr>\n",
       "      <th>72</th>\n",
       "      <td>2016.4</td>\n",
       "      <td>7.200000e+09</td>\n",
       "    </tr>\n",
       "    <tr>\n",
       "      <th>73</th>\n",
       "      <td>2016.4</td>\n",
       "      <td>4.700000e+09</td>\n",
       "    </tr>\n",
       "  </tbody>\n",
       "</table>\n",
       "<p>74 rows × 2 columns</p>\n",
       "</div>"
      ],
      "text/plain": [
       "      Year    Transistor\n",
       "0   1971.9  2.300000e+03\n",
       "1   1972.3  3.500000e+03\n",
       "2   1974.3  6.000000e+03\n",
       "3   1976.3  6.500000e+03\n",
       "4   1978.5  2.900000e+04\n",
       "..     ...           ...\n",
       "69  2014.9  1.300000e+09\n",
       "70  2015.0  1.900000e+09\n",
       "71  2016.2  3.200000e+09\n",
       "72  2016.4  7.200000e+09\n",
       "73  2016.4  4.700000e+09\n",
       "\n",
       "[74 rows x 2 columns]"
      ]
     },
     "execution_count": 8,
     "metadata": {},
     "output_type": "execute_result"
    }
   ],
   "source": [
    "a"
   ]
  },
  {
   "cell_type": "code",
   "execution_count": 9,
   "metadata": {},
   "outputs": [
    {
     "data": {
      "image/png": "[encoded data removed]",
      "text/plain": [
       "<Figure size 1440x1440 with 1 Axes>"
      ]
     },
     "metadata": {
      "needs_background": "light"
     },
     "output_type": "display_data"
    }
   ],
   "source": [
    "plt.figure(figsize=(20,20))\n",
    "plt.scatter(a['Year'],a['Transistor'])\n",
    "plt.xticks(rotation=90)\n",
    "plt.xlabel(\"Year\")\n",
    "plt.ylabel(\"Transistor\")\n",
    "plt.title(\"Year vs Transistor\")\n",
    "plt.show()"
   ]
  },
  {
   "cell_type": "markdown",
   "metadata": {},
   "source": [
    "##### Grading Feedback Cell"
   ]
  },
  {
   "cell_type": "markdown",
   "metadata": {},
   "source": [
    "### Question 3b (3 pts)\n",
    "Compute the correlation between year and number of transistors in the trans_df using spark.  Print the resulting correlation value.  Interpret the correlation in words in the provided markdown cell."
   ]
  },
  {
   "cell_type": "code",
   "execution_count": 10,
   "metadata": {},
   "outputs": [
    {
     "data": {
      "text/plain": [
       "0.5434354144405427"
      ]
     },
     "execution_count": 10,
     "metadata": {},
     "output_type": "execute_result"
    }
   ],
   "source": [
    "# your code here\n",
    "from pyspark.sql import functions as fn\n",
    "trans_df=trans_df.withColumn('Year',trans_df['Year'].cast(FloatType()))\n",
    "trans_df.corr('Year','Transistor','pearson')"
   ]
  },
  {
   "cell_type": "markdown",
   "metadata": {},
   "source": [
    "##### Grading Feedback Cell"
   ]
  },
  {
   "cell_type": "markdown",
   "metadata": {},
   "source": [
    "### Question 3c (4 pts) \n",
    "- Interpret the correlation value computed above in the markdown cell below."
   ]
  },
  {
   "cell_type": "markdown",
   "metadata": {},
   "source": [
    "Your correlation interpretation here:This indicates that the Year and Transistor have a somewhat strong positive correlation. As the Year increases the number of transistors also increase. \n"
   ]
  },
  {
   "cell_type": "markdown",
   "metadata": {},
   "source": [
    "##### Grading Feedback Cell"
   ]
  },
  {
   "cell_type": "markdown",
   "metadata": {},
   "source": [
    "## Question 4 Transform the Data (10 pts)"
   ]
  },
  {
   "cell_type": "markdown",
   "metadata": {},
   "source": [
    "### Question 4a (5 pts)\n",
    "- Create a new data frame named trans_df_2 that adds a log transform to the transistors col in trans_df.\n",
    "- Print the head of trans_df_2\n",
    "- Print the shape of trans_df_2"
   ]
  },
  {
   "cell_type": "code",
   "execution_count": 12,
   "metadata": {},
   "outputs": [],
   "source": [
    "from pyspark.sql.functions import *"
   ]
  },
  {
   "cell_type": "code",
   "execution_count": 14,
   "metadata": {},
   "outputs": [
    {
     "name": "stdout",
     "output_type": "stream",
     "text": [
      "Row(Year=1971.9000244140625, Transistor=2300.0, log_transistors=3.361727836017593)\n",
      "74 3\n"
     ]
    }
   ],
   "source": [
    "trans_df_2=trans_df.withColumn('log_transistors',log10(trans_df['Transistor']))\n",
    "print(trans_df_2.head())\n",
    "print(trans_df_2.count(),len(trans_df_2.columns))"
   ]
  },
  {
   "cell_type": "markdown",
   "metadata": {},
   "source": [
    "##### Grading Feedback Cell"
   ]
  },
  {
   "cell_type": "markdown",
   "metadata": {},
   "source": [
    "### Question 4b (5 pts)\n",
    "- Using trans_df_2, create a scatter plot of log transistors vs. year.  You may use packages outside of spark for this task."
   ]
  },
  {
   "cell_type": "code",
   "execution_count": 15,
   "metadata": {},
   "outputs": [
    {
     "data": {
      "image/png": "[encoded data removed]",
      "text/plain": [
       "<Figure size 1440x1440 with 1 Axes>"
      ]
     },
     "metadata": {
      "needs_background": "light"
     },
     "output_type": "display_data"
    }
   ],
   "source": [
    "a=trans_df_2.toPandas()\n",
    "plt.figure(figsize=(20,20))\n",
    "plt.scatter(a['Year'],a['log_transistors'])\n",
    "plt.xticks(rotation=90)\n",
    "plt.xlabel(\"Year\")\n",
    "plt.ylabel(\"log_transistors\")\n",
    "plt.title(\"Year vs log_transistors\")\n",
    "plt.show()"
   ]
  },
  {
   "cell_type": "markdown",
   "metadata": {},
   "source": [
    "##### Grading Feedback Cell"
   ]
  },
  {
   "cell_type": "markdown",
   "metadata": {},
   "source": [
    "## Question 5 Fit a Linear Regression Pipeline (10 pts)"
   ]
  },
  {
   "cell_type": "markdown",
   "metadata": {},
   "source": [
    "### Question 5a ( 2 pts)\n",
    "- Split trans_df_2 into train and test splits with a 60:40 ratio.  Name the resulting data frames trans_train and trans_test.  Print the shape of of the train and test data frames."
   ]
  },
  {
   "cell_type": "code",
   "execution_count": 16,
   "metadata": {},
   "outputs": [],
   "source": [
    "from pyspark.sql.types import *"
   ]
  },
  {
   "cell_type": "code",
   "execution_count": 19,
   "metadata": {},
   "outputs": [],
   "source": [
    "trans_train,trans_test=trans_df_2.randomSplit([0.6,0.4],seed=1)"
   ]
  },
  {
   "cell_type": "code",
   "execution_count": 20,
   "metadata": {},
   "outputs": [
    {
     "name": "stdout",
     "output_type": "stream",
     "text": [
      "46 3\n",
      "28 3\n"
     ]
    }
   ],
   "source": [
    "print(trans_train.count(),len(trans_train.columns))\n",
    "print(trans_test.count(),len(trans_test.columns))"
   ]
  },
  {
   "cell_type": "markdown",
   "metadata": {},
   "source": [
    "##### Grading Feedback Cell"
   ]
  },
  {
   "cell_type": "markdown",
   "metadata": {},
   "source": [
    "### Question 5b (6 pts)\n",
    "- Create a spark pipeline named trans_pipe to perform linear regression\n",
    "- Fit the pipeline using the transistors as the targets and year as the features.  Name the resulting fitted pipeline fitted_trans_pipe.\n",
    "- Fit another pipeline using the log transistors column as the targets and year as the features.  Name the resulting fitted pipeline log_fitted_trans_pipe."
   ]
  },
  {
   "cell_type": "code",
   "execution_count": 21,
   "metadata": {},
   "outputs": [],
   "source": [
    "va=feature.VectorAssembler(inputCols=['Year'],outputCol='features')\n",
    "lr=regression.LinearRegression(featuresCol='features',labelCol='Transistor')\n",
    "pipe=Pipeline(stages=[va,lr])\n",
    "fitted_trans_pipe=pipe.fit(trans_train)"
   ]
  },
  {
   "cell_type": "code",
   "execution_count": 22,
   "metadata": {},
   "outputs": [],
   "source": [
    "va=feature.VectorAssembler(inputCols=['Year'],outputCol='features')\n",
    "lr=regression.LinearRegression(featuresCol='features',labelCol='log_transistors')\n",
    "pipe=Pipeline(stages=[va,lr])\n",
    "log_fitted_trans_pipe=pipe.fit(trans_train)"
   ]
  },
  {
   "cell_type": "markdown",
   "metadata": {},
   "source": [
    "##### Grading Feedback Cell"
   ]
  },
  {
   "cell_type": "markdown",
   "metadata": {},
   "source": [
    "### Question 5c (2 pts)\n",
    "- Print the linear regression coefficient in the linear regression object in each fitted model\n",
    "- Print the linear regression Y intercept in the linear regression object in each fitted model"
   ]
  },
  {
   "cell_type": "code",
   "execution_count": 23,
   "metadata": {},
   "outputs": [
    {
     "name": "stdout",
     "output_type": "stream",
     "text": [
      "[56187139.82506674]\n",
      "[0.14367661820429453]\n"
     ]
    }
   ],
   "source": [
    "print(fitted_trans_pipe.stages[1].coefficients)\n",
    "print(log_fitted_trans_pipe.stages[1].coefficients)"
   ]
  },
  {
   "cell_type": "code",
   "execution_count": 24,
   "metadata": {},
   "outputs": [
    {
     "name": "stdout",
     "output_type": "stream",
     "text": [
      "-112004254019.50906\n",
      "-279.8062675340695\n"
     ]
    }
   ],
   "source": [
    "print(fitted_trans_pipe.stages[1].intercept)\n",
    "print(log_fitted_trans_pipe.stages[1].intercept)"
   ]
  },
  {
   "cell_type": "markdown",
   "metadata": {},
   "source": [
    "##### Grading Feedback Cell"
   ]
  },
  {
   "cell_type": "markdown",
   "metadata": {},
   "source": [
    "### Question 6 Test the linear regression pipeline (10 pts)"
   ]
  },
  {
   "cell_type": "markdown",
   "metadata": {},
   "source": [
    "### Question 6a (5 pts)\n",
    "- Compute mean squared error (MSE) using the transform method on each fitted model.\n",
    "- Print the resulting MSEs."
   ]
  },
  {
   "cell_type": "code",
   "execution_count": 25,
   "metadata": {},
   "outputs": [],
   "source": [
    "mse = mean((col('Transistor') - col('prediction'))**2).alias('mse')"
   ]
  },
  {
   "cell_type": "code",
   "execution_count": 26,
   "metadata": {
    "scrolled": false
   },
   "outputs": [
    {
     "name": "stdout",
     "output_type": "stream",
     "text": [
      "+--------------------+\n",
      "|                 mse|\n",
      "+--------------------+\n",
      "|3.207223893560666...|\n",
      "+--------------------+\n",
      "\n"
     ]
    }
   ],
   "source": [
    "fitted_trans_pipe.transform(trans_test).select(mse).show()"
   ]
  },
  {
   "cell_type": "code",
   "execution_count": 27,
   "metadata": {},
   "outputs": [],
   "source": [
    "mse1= mean((col('log_transistors') - col('prediction'))**2).alias('mse')"
   ]
  },
  {
   "cell_type": "code",
   "execution_count": 28,
   "metadata": {},
   "outputs": [
    {
     "name": "stdout",
     "output_type": "stream",
     "text": [
      "+--------------------+\n",
      "|                 mse|\n",
      "+--------------------+\n",
      "|0.060404226868568146|\n",
      "+--------------------+\n",
      "\n"
     ]
    }
   ],
   "source": [
    "log_fitted_trans_pipe.transform(trans_test).select(mse1).show()"
   ]
  },
  {
   "cell_type": "markdown",
   "metadata": {},
   "source": [
    "##### Grading Feedback Cell"
   ]
  },
  {
   "cell_type": "markdown",
   "metadata": {},
   "source": [
    "### Question 6b (5 pts)\n",
    "- Using log_fitted_trans_pipe and any needed support code, predict and print the number of transistors for the years 1970.0, 1980.0, 1990.0, 2000.0, and 2010.0"
   ]
  },
  {
   "cell_type": "code",
   "execution_count": 29,
   "metadata": {},
   "outputs": [
    {
     "name": "stdout",
     "output_type": "stream",
     "text": [
      "+------+--------+-----------------+\n",
      "|  Year|features|       prediction|\n",
      "+------+--------+-----------------+\n",
      "|1970.0|[1970.0]|3.236670328390744|\n",
      "|1980.0|[1980.0]|4.673436510433703|\n",
      "|1990.0|[1990.0]|6.110202692476605|\n",
      "|2000.0|[2000.0]|7.546968874519564|\n",
      "|2010.0|[2010.0]|8.983735056562523|\n",
      "+------+--------+-----------------+\n",
      "\n"
     ]
    }
   ],
   "source": [
    "df=[(1970.0,),(1980.0,),(1990.0,),(2000.0,),(2010.0,)]\n",
    "data_frame=spark.createDataFrame(df,['Year'])\n",
    "log_fitted_trans_pipe.transform(data_frame).show()"
   ]
  },
  {
   "cell_type": "markdown",
   "metadata": {},
   "source": [
    "##### Grading Feedback Cell"
   ]
  },
  {
   "cell_type": "markdown",
   "metadata": {},
   "source": [
    "# Climate Change"
   ]
  },
  {
   "cell_type": "markdown",
   "metadata": {},
   "source": [
    "## Question 7 Load the global warming data (5 pts)\n",
    "- Read the globalWarm.txt file into a spark data frame named global_warm_df using only spark.  The columns should be named as per the header in the txt file.\n",
    "- Print the first 5 rows of global_warm_df \n",
    "- Print the shape of global_warm_df (num_rows, num_cols)\n",
    "- Make sure to use the get_training_filename function above to obtain the file name based on your runtime environment\n",
    "- A data description follows:\n",
    "<ul>\n",
    "<li/>Temp = annual surface temperature measured in 1/100<sup>o</sup> C   over the 1950-1980 mean.  \n",
    "<li/>Solar = annual mean intensity of sunlight piercing the atmosphere\n",
    "<li/>CO2 = annual average fraction CO<sub>2</sub> in atmosphere (#molecules/#molecules of dry air) \n",
    "<li/>IceShelf = sea ice in 1MM square miles  hypothesized to reflect heat\n",
    "<li/>Transmission = volcanic MLO transmission data where eruptions release greenhouse gases but also decrease the temperature\n",
    "</ul>"
   ]
  },
  {
   "cell_type": "code",
   "execution_count": 30,
   "metadata": {},
   "outputs": [],
   "source": [
    "a=sc.textFile(get_training_filename('globalWarm.txt'))\n",
    "a=a.map(lambda x:x.split('\\t'))\n",
    "header = a.first()\n",
    "a=a.filter(lambda line: line != header)\n",
    "global_warm_df=spark.createDataFrame(a,['Year','Temp','CO2','Solar','Transmission','IceShelf'])"
   ]
  },
  {
   "cell_type": "code",
   "execution_count": 31,
   "metadata": {},
   "outputs": [
    {
     "name": "stdout",
     "output_type": "stream",
     "text": [
      "+----+----+------+-------+------------+--------+\n",
      "|Year|Temp|   CO2|  Solar|Transmission|IceShelf|\n",
      "+----+----+------+-------+------------+--------+\n",
      "|1979|   8|336.67|1366.43| 0.928466667|     7.2|\n",
      "|1980|  19|338.57|1366.51| 0.929666667|    7.85|\n",
      "|1981|  26|339.92|1366.51| 0.929766667|    7.25|\n",
      "|1982|   4| 341.3|1366.16| 0.853066667|    7.45|\n",
      "|1983|  25|342.71|1366.18| 0.897716667|    7.52|\n",
      "+----+----+------+-------+------------+--------+\n",
      "only showing top 5 rows\n",
      "\n"
     ]
    }
   ],
   "source": [
    "global_warm_df.show(5)"
   ]
  },
  {
   "cell_type": "code",
   "execution_count": 32,
   "metadata": {},
   "outputs": [],
   "source": [
    "global_warm_df=global_warm_df.withColumn('Year',global_warm_df['Year'].cast(IntegerType()))\n",
    "global_warm_df=global_warm_df.withColumn('Temp',global_warm_df['Temp'].cast(IntegerType()))\n",
    "global_warm_df=global_warm_df.withColumn('CO2',global_warm_df['CO2'].cast(FloatType()))\n",
    "global_warm_df=global_warm_df.withColumn('Solar',global_warm_df['Solar'].cast(FloatType()))\n",
    "global_warm_df=global_warm_df.withColumn('Transmission',global_warm_df['Transmission'].cast(FloatType()))\n",
    "global_warm_df=global_warm_df.withColumn('IceShelf',global_warm_df['IceShelf'].cast(FloatType()))"
   ]
  },
  {
   "cell_type": "code",
   "execution_count": 33,
   "metadata": {},
   "outputs": [
    {
     "name": "stdout",
     "output_type": "stream",
     "text": [
      "+----+----+------+-------+------------+--------+\n",
      "|Year|Temp|   CO2|  Solar|Transmission|IceShelf|\n",
      "+----+----+------+-------+------------+--------+\n",
      "|1979|   8|336.67|1366.43|   0.9284667|     7.2|\n",
      "|1980|  19|338.57|1366.51|  0.92966664|    7.85|\n",
      "|1981|  26|339.92|1366.51|  0.92976665|    7.25|\n",
      "|1982|   4| 341.3|1366.16|   0.8530667|    7.45|\n",
      "|1983|  25|342.71|1366.18|  0.89771664|    7.52|\n",
      "+----+----+------+-------+------------+--------+\n",
      "only showing top 5 rows\n",
      "\n",
      "32 6\n"
     ]
    }
   ],
   "source": [
    "global_warm_df.show(5)\n",
    "print(global_warm_df.count(),len(global_warm_df.columns))"
   ]
  },
  {
   "cell_type": "markdown",
   "metadata": {},
   "source": [
    "##### Grading Feedback Cell"
   ]
  },
  {
   "cell_type": "markdown",
   "metadata": {},
   "source": [
    "## Question 8 Global Warming Data Exploration (5 pts)\n",
    "- Create a temperature vs. year scatter plot from global_warm_df\n",
    "- You may use packages outside of spark for this question"
   ]
  },
  {
   "cell_type": "code",
   "execution_count": 34,
   "metadata": {},
   "outputs": [
    {
     "data": {
      "image/png": "[encoded data removed]",
      "text/plain": [
       "<Figure size 720x720 with 1 Axes>"
      ]
     },
     "metadata": {
      "needs_background": "light"
     },
     "output_type": "display_data"
    }
   ],
   "source": [
    "a=global_warm_df.toPandas()\n",
    "plt.figure(figsize=(10,10))\n",
    "plt.scatter(a['Temp'],a['Year'])\n",
    "plt.xticks(rotation=90)\n",
    "plt.xlabel(\"Temperature\")\n",
    "plt.ylabel(\"Year\")\n",
    "plt.title(\"Temperature vs Year\")\n",
    "plt.show()"
   ]
  },
  {
   "cell_type": "markdown",
   "metadata": {},
   "source": [
    "##### Grading Feedback Cell"
   ]
  },
  {
   "cell_type": "markdown",
   "metadata": {},
   "source": [
    "## Question 9 Global Warming Data Exploration (10 pts)\n"
   ]
  },
  {
   "cell_type": "markdown",
   "metadata": {},
   "source": [
    "### Question 9a (5 pts)\n",
    "- Using global_warm_df, create a pair plot of the following variables in a grid:  Temp, CO<sub>2</sub>, Solar, Transmission, and IceShelf.\n",
    "- You may use packages outside of spark for this question"
   ]
  },
  {
   "cell_type": "code",
   "execution_count": 35,
   "metadata": {},
   "outputs": [
    {
     "data": {
      "image/png": "[encoded data removed]",
      "text/plain": [
       "<Figure size 900x900 with 30 Axes>"
      ]
     },
     "metadata": {
      "needs_background": "light"
     },
     "output_type": "display_data"
    }
   ],
   "source": [
    "import seaborn as sns\n",
    "g = sns.pairplot(global_warm_df.toPandas(),vars=['Temp','CO2','Solar','Transmission','IceShelf'])"
   ]
  },
  {
   "cell_type": "markdown",
   "metadata": {},
   "source": [
    "##### Grading Feedback Cell"
   ]
  },
  {
   "cell_type": "markdown",
   "metadata": {},
   "source": [
    "### Question 9b (5 pts)\n",
    "- Compute a correlation matrix between Temp, CO<sub>2</sub>, Solar, Transmission, and IceShelf using spark.\n",
    "- Print a labeled correlation matrix."
   ]
  },
  {
   "cell_type": "code",
   "execution_count": 53,
   "metadata": {},
   "outputs": [
    {
     "data": {
      "text/plain": [
       "array([ 1.        ,  0.86092751, -0.34034296,  0.43539404, -0.74742547,\n",
       "        0.86092751,  1.        , -0.54282195,  0.32822779, -0.84696077,\n",
       "       -0.34034296, -0.54282195,  1.        , -0.2058605 ,  0.47069033,\n",
       "        0.43539404,  0.32822779, -0.2058605 ,  1.        , -0.30248399,\n",
       "       -0.74742547, -0.84696077,  0.47069033, -0.30248399,  1.        ])"
      ]
     },
     "execution_count": 53,
     "metadata": {},
     "output_type": "execute_result"
    }
   ],
   "source": [
    "from pyspark.ml.stat import Correlation\n",
    "from pyspark.ml.feature import VectorAssembler\n",
    "vector_col = \"corr_features\"\n",
    "assembler = VectorAssembler(inputCols=['Temp','CO2','Solar','Transmission','IceShelf'], outputCol=vector_col)\n",
    "df_vector = assembler.transform(global_warm_df).select(vector_col)\n",
    "\n",
    "# get correlation matrix\n",
    "matrix = Correlation.corr(df_vector, vector_col)\n",
    "matrix.collect()[0][\"pearson({})\".format(vector_col)].values"
   ]
  },
  {
   "cell_type": "code",
   "execution_count": 54,
   "metadata": {},
   "outputs": [],
   "source": [
    "a=matrix.collect()[0][\"pearson({})\".format(vector_col)].values\n",
    "a=list(a)\n",
    "a=[(a[0:5]),(a[5:10]),(a[10:15]),(a[15:20]),(a[20:25])]"
   ]
  },
  {
   "cell_type": "code",
   "execution_count": 55,
   "metadata": {},
   "outputs": [
    {
     "data": {
      "text/html": [
       "<div>\n",
       "<style scoped>\n",
       "    .dataframe tbody tr th:only-of-type {\n",
       "        vertical-align: middle;\n",
       "    }\n",
       "\n",
       "    .dataframe tbody tr th {\n",
       "        vertical-align: top;\n",
       "    }\n",
       "\n",
       "    .dataframe thead th {\n",
       "        text-align: right;\n",
       "    }\n",
       "</style>\n",
       "<table border=\"1\" class=\"dataframe\">\n",
       "  <thead>\n",
       "    <tr style=\"text-align: right;\">\n",
       "      <th></th>\n",
       "      <th>Temp</th>\n",
       "      <th>CO2</th>\n",
       "      <th>Solar</th>\n",
       "      <th>Transmission</th>\n",
       "      <th>IceShelf</th>\n",
       "    </tr>\n",
       "  </thead>\n",
       "  <tbody>\n",
       "    <tr>\n",
       "      <th>Temp</th>\n",
       "      <td>1.000000</td>\n",
       "      <td>0.860928</td>\n",
       "      <td>-0.340343</td>\n",
       "      <td>0.435394</td>\n",
       "      <td>-0.747425</td>\n",
       "    </tr>\n",
       "    <tr>\n",
       "      <th>CO2</th>\n",
       "      <td>0.860928</td>\n",
       "      <td>1.000000</td>\n",
       "      <td>-0.542822</td>\n",
       "      <td>0.328228</td>\n",
       "      <td>-0.846961</td>\n",
       "    </tr>\n",
       "    <tr>\n",
       "      <th>Solar</th>\n",
       "      <td>-0.340343</td>\n",
       "      <td>-0.542822</td>\n",
       "      <td>1.000000</td>\n",
       "      <td>-0.205860</td>\n",
       "      <td>0.470690</td>\n",
       "    </tr>\n",
       "    <tr>\n",
       "      <th>Transmission</th>\n",
       "      <td>0.435394</td>\n",
       "      <td>0.328228</td>\n",
       "      <td>-0.205860</td>\n",
       "      <td>1.000000</td>\n",
       "      <td>-0.302484</td>\n",
       "    </tr>\n",
       "    <tr>\n",
       "      <th>IceShelf</th>\n",
       "      <td>-0.747425</td>\n",
       "      <td>-0.846961</td>\n",
       "      <td>0.470690</td>\n",
       "      <td>-0.302484</td>\n",
       "      <td>1.000000</td>\n",
       "    </tr>\n",
       "  </tbody>\n",
       "</table>\n",
       "</div>"
      ],
      "text/plain": [
       "                  Temp       CO2     Solar  Transmission  IceShelf\n",
       "Temp          1.000000  0.860928 -0.340343      0.435394 -0.747425\n",
       "CO2           0.860928  1.000000 -0.542822      0.328228 -0.846961\n",
       "Solar        -0.340343 -0.542822  1.000000     -0.205860  0.470690\n",
       "Transmission  0.435394  0.328228 -0.205860      1.000000 -0.302484\n",
       "IceShelf     -0.747425 -0.846961  0.470690     -0.302484  1.000000"
      ]
     },
     "execution_count": 55,
     "metadata": {},
     "output_type": "execute_result"
    }
   ],
   "source": [
    "df=pd.DataFrame(a,index=['Temp','CO2','Solar','Transmission','IceShelf'],columns=['Temp','CO2','Solar','Transmission','IceShelf'])\n",
    "df"
   ]
  },
  {
   "cell_type": "markdown",
   "metadata": {},
   "source": [
    "##### Grading Feedback Cell"
   ]
  },
  {
   "cell_type": "markdown",
   "metadata": {},
   "source": [
    "## Question 10 Fit Linear Regression Pipelines (10 pts)"
   ]
  },
  {
   "cell_type": "markdown",
   "metadata": {},
   "source": [
    "### Question 10a (2 pts)\n",
    "Split global_warm_df into train and test splits with a 60:40 ratio.  Name the resulting data frames gw_train and gw_test.  Print the shape of of the train and test data frames.   "
   ]
  },
  {
   "cell_type": "code",
   "execution_count": 57,
   "metadata": {},
   "outputs": [
    {
     "name": "stdout",
     "output_type": "stream",
     "text": [
      "22 6\n",
      "10 6\n"
     ]
    }
   ],
   "source": [
    "gw_train,gw_test=global_warm_df.randomSplit([0.6,0.4],seed=1)\n",
    "print(gw_train.count(),len(gw_train.columns))\n",
    "print(gw_test.count(),len(gw_test.columns))"
   ]
  },
  {
   "cell_type": "markdown",
   "metadata": {},
   "source": [
    "##### Grading Feedback Cell"
   ]
  },
  {
   "cell_type": "markdown",
   "metadata": {},
   "source": [
    "### Question 10b (6 pts)\n",
    "- Create a spark pipeline named global_warm_pipe to perform linear regression.\n",
    "- Use the global_warm_df data frame\n",
    "- Fit a pipeline on the temp column as the target and CO2 as the feature.  Name the resulting fitted pipeline fitted_global_warm_pipe.\n",
    "- Fit another pipeline on the temp column as the target and all other columns except year as the features.  Name the resulting fitted pipeline fitted_global_warm_pipe_2."
   ]
  },
  {
   "cell_type": "code",
   "execution_count": 58,
   "metadata": {},
   "outputs": [],
   "source": [
    "va=feature.VectorAssembler(inputCols=['CO2'],outputCol='features')\n",
    "lr=regression.LinearRegression(featuresCol='features',labelCol='Temp')\n",
    "pipe=Pipeline(stages=[va,lr])\n",
    "fitted_global_warm_pipe=pipe.fit(gw_train)"
   ]
  },
  {
   "cell_type": "code",
   "execution_count": 59,
   "metadata": {},
   "outputs": [],
   "source": [
    "va=feature.VectorAssembler(inputCols=['CO2','Solar','Transmission','IceShelf'],outputCol='features')\n",
    "lr=regression.LinearRegression(featuresCol='features',labelCol='Temp')\n",
    "pipe=Pipeline(stages=[va,lr])\n",
    "fitted_global_warm_pipe_2=pipe.fit(gw_train)"
   ]
  },
  {
   "cell_type": "markdown",
   "metadata": {},
   "source": [
    "##### Grading Feedback Cell"
   ]
  },
  {
   "cell_type": "markdown",
   "metadata": {},
   "source": [
    "### Question 10c (2 pts)\n",
    "- Print the linear regression coefficient(s) in the linear regression object in each fitted model\n",
    "- Print the linear regression Y intercept in the linear regression object in each fitted model"
   ]
  },
  {
   "cell_type": "code",
   "execution_count": 60,
   "metadata": {},
   "outputs": [
    {
     "name": "stdout",
     "output_type": "stream",
     "text": [
      "[1.0179070539143649]\n",
      "[1.0088050768195247,8.94427133618214,130.28982792028538,-1.6516696367345527]\n"
     ]
    }
   ],
   "source": [
    "print(fitted_global_warm_pipe.stages[1].coefficients)\n",
    "print(fitted_global_warm_pipe_2.stages[1].coefficients)"
   ]
  },
  {
   "cell_type": "code",
   "execution_count": 61,
   "metadata": {},
   "outputs": [
    {
     "name": "stdout",
     "output_type": "stream",
     "text": [
      "-332.2212420396796\n",
      "-12655.624397661475\n"
     ]
    }
   ],
   "source": [
    "print(fitted_global_warm_pipe.stages[1].intercept)\n",
    "print(fitted_global_warm_pipe_2.stages[1].intercept)"
   ]
  },
  {
   "cell_type": "markdown",
   "metadata": {},
   "source": [
    "##### Grading Feedback Cell"
   ]
  },
  {
   "cell_type": "markdown",
   "metadata": {},
   "source": [
    "### Question 11 Test the linear regression pipeline (10 pts)"
   ]
  },
  {
   "cell_type": "markdown",
   "metadata": {},
   "source": [
    "### Question 11a (5 pts)\n",
    "- Compute mean squared error (MSE) using the transform method on each fitted model.\n",
    "- Print the resulting MSEs."
   ]
  },
  {
   "cell_type": "code",
   "execution_count": 62,
   "metadata": {},
   "outputs": [
    {
     "name": "stdout",
     "output_type": "stream",
     "text": [
      "+------------------+\n",
      "|               mse|\n",
      "+------------------+\n",
      "|108.09570620456793|\n",
      "+------------------+\n",
      "\n"
     ]
    }
   ],
   "source": [
    "mse1= mean((col('Temp') - col('prediction'))**2).alias('mse')\n",
    "fitted_global_warm_pipe.transform(gw_test).select(mse1).show()"
   ]
  },
  {
   "cell_type": "code",
   "execution_count": 63,
   "metadata": {},
   "outputs": [
    {
     "name": "stdout",
     "output_type": "stream",
     "text": [
      "+-----------------+\n",
      "|              mse|\n",
      "+-----------------+\n",
      "|87.47885999179431|\n",
      "+-----------------+\n",
      "\n"
     ]
    }
   ],
   "source": [
    "mse2= mean((col('Temp') - col('prediction'))**2).alias('mse')\n",
    "fitted_global_warm_pipe_2.transform(gw_test).select(mse1).show()"
   ]
  },
  {
   "cell_type": "markdown",
   "metadata": {},
   "source": [
    "##### Grading Feedback Cell"
   ]
  },
  {
   "cell_type": "markdown",
   "metadata": {},
   "source": [
    "### Question 11b (5 pts)\n",
    "- Which of the 2 models have higher performance.  In the cell below, describe why you think the better performing model made the model perform better."
   ]
  },
  {
   "cell_type": "markdown",
   "metadata": {},
   "source": [
    "The second model (fitted_global_warm_pipe_2) has higher performance. Including other variables in the model increases the model's performance.We can say the other variables along with CO2 have a significant impact on predicting the temperture. "
   ]
  },
  {
   "cell_type": "markdown",
   "metadata": {},
   "source": [
    "### Question 12 Inference (10 pts)"
   ]
  },
  {
   "cell_type": "markdown",
   "metadata": {},
   "source": [
    "### Question 12a Data Scaling (5 pts)\n",
    "Add data scaling to fitted_global_warm_pipe_2 above. Name the resulting fitted model fitted_global_warm_pipe_3.  Print the resulting fitted model coefficients such that each coefficient is clearly labeled with it's corresponding feature name."
   ]
  },
  {
   "cell_type": "code",
   "execution_count": 64,
   "metadata": {},
   "outputs": [],
   "source": [
    "from pyspark.ml.feature import StandardScaler"
   ]
  },
  {
   "cell_type": "code",
   "execution_count": 66,
   "metadata": {},
   "outputs": [],
   "source": [
    "from pyspark.ml.feature import StandardScaler\n",
    "va=feature.VectorAssembler(inputCols=['CO2','Solar','Transmission','IceShelf'],outputCol='features')\n",
    "scale=StandardScaler(inputCol='features',outputCol='scaled_features')\n",
    "lr=regression.LinearRegression(featuresCol='scaled_features',labelCol='Temp')\n",
    "pipe=Pipeline(stages=[va,scale,lr])\n",
    "fitted_global_warm_pipe_3=pipe.fit(gw_train)"
   ]
  },
  {
   "cell_type": "code",
   "execution_count": 70,
   "metadata": {},
   "outputs": [
    {
     "name": "stdout",
     "output_type": "stream",
     "text": [
      "CO2  15.554518831280225\n",
      "Solar  3.9973658136396573\n",
      "Transmission  2.444304562959733\n",
      "IceShelf  -1.6296443446470492\n"
     ]
    }
   ],
   "source": [
    "print('CO2 ',fitted_global_warm_pipe_3.stages[2].coefficients[0])\n",
    "print('Solar ',fitted_global_warm_pipe_3.stages[2].coefficients[1])\n",
    "print('Transmission ',fitted_global_warm_pipe_3.stages[2].coefficients[2])\n",
    "print('IceShelf ',fitted_global_warm_pipe_3.stages[2].coefficients[3])\n"
   ]
  },
  {
   "cell_type": "markdown",
   "metadata": {},
   "source": [
    "### Question 12b Inference (5 pts)  \n",
    "Use the coefficients printed above to gain insights into the global warming problem. Describe your inference conclusions in the cell below."
   ]
  },
  {
   "cell_type": "markdown",
   "metadata": {},
   "source": [
    "Coefficient inference conclusions here: Interpreting the coefficients above the temperature increases with increases in CO2, Solar, Transmission. And the temperature decreases with an increase in IceShelf. "
   ]
  },
  {
   "cell_type": "markdown",
   "metadata": {},
   "source": [
    "##### Grading Feedback Cell"
   ]
  }
 ],
 "metadata": {
  "celltoolbar": "Edit Metadata",
  "kernelspec": {
   "display_name": "Python 3",
   "language": "python",
   "name": "python3"
  },
  "language_info": {
   "codemirror_mode": {
    "name": "ipython",
    "version": 3
   },
   "file_extension": ".py",
   "mimetype": "text/x-python",
   "name": "python",
   "nbconvert_exporter": "python",
   "pygments_lexer": "ipython3",
   "version": "3.7.5"
  }
 },
 "nbformat": 4,
 "nbformat_minor": 2
}
